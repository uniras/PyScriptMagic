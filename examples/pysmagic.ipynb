{
 "cells": [
  {
   "cell_type": "code",
   "execution_count": null,
   "metadata": {},
   "outputs": [],
   "source": [
    "%pip install pysmagic\n",
    "from pysmagic import register_pysmagic\n",
    "\n",
    "register_pysmagic()"
   ]
  },
  {
   "cell_type": "code",
   "execution_count": null,
   "metadata": {},
   "outputs": [],
   "source": [
    "%%run_iframe mpy 500 500 white '{}' '[\"https://cdn.jsdelivr.net/npm/p5@1.9.4/lib/p5.js\"]'\n",
    "\n",
    "import pyscript\n",
    "import js\n",
    "\n",
    "def start(p5):\n",
    "    x = 100\n",
    "    y = 100\n",
    "\n",
    "    def setup():\n",
    "        p5.createCanvas(300, 300)\n",
    "\n",
    "    def draw():\n",
    "        nonlocal x, y\n",
    "        p5.background(128)\n",
    "        p5.fill(255, 0, 0)\n",
    "        p5.ellipse(x, y, 50, 50)\n",
    "\n",
    "        if p5.keyIsDown(p5.LEFT_ARROW):\n",
    "            x -= 1\n",
    "        if p5.keyIsDown(p5.RIGHT_ARROW):\n",
    "            x += 1\n",
    "        if p5.keyIsDown(p5.UP_ARROW):\n",
    "            y -= 1\n",
    "        if p5.keyIsDown(p5.DOWN_ARROW):\n",
    "            y += 1\n",
    "\n",
    "    p5.setup = setup\n",
    "    p5.draw = draw\n",
    "\n",
    "p5run = js.window.Function(\"func\", \"new p5((p) => {func(p)})\")\n",
    "p5run(start)\n"
   ]
  }
 ],
 "metadata": {
  "language_info": {
   "name": "python"
  }
 },
 "nbformat": 4,
 "nbformat_minor": 2
}
