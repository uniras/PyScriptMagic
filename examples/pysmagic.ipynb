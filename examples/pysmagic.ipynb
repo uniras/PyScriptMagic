{
 "cells": [
  {
   "cell_type": "code",
   "execution_count": 1,
   "metadata": {},
   "outputs": [
    {
     "name": "stdout",
     "output_type": "stream",
     "text": [
      "Note: you may need to restart the kernel to use updated packages.\n",
      "Registered PyScript magic commands.\n"
     ]
    }
   ],
   "source": [
    "%pip install -q -U pysmagic\n",
    "from pysmagic import register_pysmagic\n",
    "\n",
    "register_pysmagic()"
   ]
  },
  {
   "cell_type": "code",
   "execution_count": 2,
   "metadata": {},
   "outputs": [
    {
     "data": {
      "text/html": [
       "\n",
       "        <iframe\n",
       "            width=\"500\"\n",
       "            height=\"500\"\n",
       "            src=\"http://localhost:18000/tmpju1211_w.html\"\n",
       "            frameborder=\"0\"\n",
       "            allowfullscreen\n",
       "            \n",
       "        ></iframe>\n",
       "        "
      ],
      "text/plain": [
       "<IPython.lib.display.IFrame at 0x1412c36eb70>"
      ]
     },
     "metadata": {},
     "output_type": "display_data"
    }
   ],
   "source": [
    "%%runpys 500 500 white mpy '{}' '[\"https://cdn.jsdelivr.net/npm/p5@1/lib/p5.js\"]'\n",
    "\n",
    "import pyscript\n",
    "import js\n",
    "\n",
    "def sketch(p5):\n",
    "    x = 100\n",
    "    y = 100\n",
    "\n",
    "    def setup():\n",
    "        p5.createCanvas(300, 300)\n",
    "\n",
    "    def draw():\n",
    "        nonlocal x, y\n",
    "        p5.background(128)\n",
    "        p5.fill(255, 0, 0)\n",
    "        p5.ellipse(x, y, 50, 50)\n",
    "\n",
    "        if p5.keyIsDown(p5.LEFT_ARROW):\n",
    "            x -= 1\n",
    "        if p5.keyIsDown(p5.RIGHT_ARROW):\n",
    "            x += 1\n",
    "        if p5.keyIsDown(p5.UP_ARROW):\n",
    "            y -= 1\n",
    "        if p5.keyIsDown(p5.DOWN_ARROW):\n",
    "            y += 1\n",
    "\n",
    "    p5.setup = setup\n",
    "    p5.draw = draw\n",
    "\n",
    "js.p5.new(sketch)\n"
   ]
  }
 ],
 "metadata": {
  "kernelspec": {
   "display_name": "Python 3",
   "language": "python",
   "name": "python3"
  },
  "language_info": {
   "codemirror_mode": {
    "name": "ipython",
    "version": 3
   },
   "file_extension": ".py",
   "mimetype": "text/x-python",
   "name": "python",
   "nbconvert_exporter": "python",
   "pygments_lexer": "ipython3",
   "version": "3.12.3"
  }
 },
 "nbformat": 4,
 "nbformat_minor": 2
}
